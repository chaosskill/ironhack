{
 "cells": [
  {
   "cell_type": "code",
   "execution_count": 1,
   "metadata": {},
   "outputs": [
    {
     "name": "stdout",
     "output_type": "stream",
     "text": [
      "      Name      Age Gender   Income     Education Level\n",
      "0    Alice       25      F  $50,000   Bachelor's Degree\n",
      "1      Bob       35      M  $75,000     Master's Degree\n",
      "2  Charlie       22      M   60,000         High School\n",
      "3    David       28      M  $90,000           Doctorate\n",
      "4      Eve  unknown      F           Associate's Degree\n",
      "<class 'pandas.core.frame.DataFrame'>\n",
      "RangeIndex: 5 entries, 0 to 4\n",
      "Data columns (total 5 columns):\n",
      " #   Column           Non-Null Count  Dtype \n",
      "---  ------           --------------  ----- \n",
      " 0   Name             5 non-null      object\n",
      " 1   Age              5 non-null      object\n",
      " 2   Gender           5 non-null      object\n",
      " 3   Income           5 non-null      object\n",
      " 4   Education Level  5 non-null      object\n",
      "dtypes: object(5)\n",
      "memory usage: 328.0+ bytes\n",
      "None\n",
      "Name               0\n",
      "Age                0\n",
      "Gender             0\n",
      "Income             0\n",
      "Education Level    0\n",
      "dtype: int64\n"
     ]
    }
   ],
   "source": [
    "import pandas as pd\n",
    "import numpy as np\n",
    "\n",
    "# Create a dummy dataframe\n",
    "data = {'Name': ['Alice', 'Bob', 'Charlie', 'David', 'Eve'],\n",
    "        'Age': [25, 35, 22, 28, 'unknown'],\n",
    "        'Gender': ['F', 'M', 'M', 'M', 'F'],\n",
    "        'Income': ['$50,000', '$75,000', '60,000', '$90,000', ''],\n",
    "        'Education Level': ['Bachelor\\'s Degree', 'Master\\'s Degree', 'High School', 'Doctorate', 'Associate\\'s Degree']}\n",
    "df = pd.DataFrame(data)\n",
    "\n",
    "# Check the dataframe\n",
    "print(df.head())\n",
    "print(df.info())\n",
    "print(df.isnull().sum())"
   ]
  },
  {
   "cell_type": "code",
   "execution_count": 2,
   "metadata": {},
   "outputs": [],
   "source": [
    "# Step 1: Standardize column names\n",
    "df.columns = df.columns.str.lower().str.replace(' ', '_')"
   ]
  },
  {
   "cell_type": "code",
   "execution_count": 3,
   "metadata": {},
   "outputs": [
    {
     "name": "stderr",
     "output_type": "stream",
     "text": [
      "C:\\Users\\user\\AppData\\Local\\Temp\\ipykernel_21288\\772429867.py:6: FutureWarning: The default value of regex will change from True to False in a future version. In addition, single character regular expressions will *not* be treated as literal strings when regex=True.\n",
      "  df['income'] = df['income'].str.replace('$', '').str.replace(',', '').apply(lambda x: float(x) if x != '' else np.nan)\n"
     ]
    }
   ],
   "source": [
    "# Step 2: Cleaning the data\n",
    "# Replace 'unknown' values in Age column with NaN\n",
    "df['age'] = pd.to_numeric(df['age'], errors='coerce')\n",
    "\n",
    "# Remove '$' and ',' from Income column and convert it to float\n",
    "df['income'] = df['income'].str.replace('$', '').str.replace(',', '').apply(lambda x: float(x) if x != '' else np.nan)\n",
    "\n",
    "# Drop any duplicates\n",
    "df = df.drop_duplicates()"
   ]
  },
  {
   "cell_type": "code",
   "execution_count": 4,
   "metadata": {},
   "outputs": [
    {
     "name": "stdout",
     "output_type": "stream",
     "text": [
      "name               0\n",
      "age                1\n",
      "gender             0\n",
      "income             1\n",
      "education_level    0\n",
      "dtype: int64\n"
     ]
    }
   ],
   "source": [
    "# Check for NaN values in each column  \n",
    "print(df.isna().sum())"
   ]
  },
  {
   "cell_type": "code",
   "execution_count": 6,
   "metadata": {},
   "outputs": [],
   "source": [
    "# replace with mean or median as appropriate\n",
    "df['age'] = df['age'].fillna(df['age'].mean())\n",
    "df['income'] = df['income'].fillna(df['income'].median())\n"
   ]
  },
  {
   "cell_type": "code",
   "execution_count": 7,
   "metadata": {},
   "outputs": [
    {
     "name": "stdout",
     "output_type": "stream",
     "text": [
      "             age        income\n",
      "count   5.000000      5.000000\n",
      "mean   27.500000  68500.000000\n",
      "std     4.821825  15165.750888\n",
      "min    22.000000  50000.000000\n",
      "25%    25.000000  60000.000000\n",
      "50%    27.500000  67500.000000\n",
      "75%    28.000000  75000.000000\n",
      "max    35.000000  90000.000000\n"
     ]
    }
   ],
   "source": [
    "# Step 3: Statistical checks\n",
    "print(df.describe())"
   ]
  },
  {
   "cell_type": "code",
   "execution_count": 8,
   "metadata": {},
   "outputs": [
    {
     "name": "stdout",
     "output_type": "stream",
     "text": [
      "             age    income\n",
      "age     1.000000  0.521356\n",
      "income  0.521356  1.000000\n"
     ]
    }
   ],
   "source": [
    "# Matrix of correlation coefficients \n",
    "print(df.corr()) "
   ]
  },
  {
   "cell_type": "code",
   "execution_count": 9,
   "metadata": {},
   "outputs": [
    {
     "data": {
      "image/png": "[encoded data removed]",
      "text/plain": [
       "<Figure size 1000x800 with 2 Axes>"
      ]
     },
     "metadata": {},
     "output_type": "display_data"
    }
   ],
   "source": [
    "# Heatmap of correlation coefficients \n",
    "import seaborn as sns \n",
    "import matplotlib.pyplot as plt \n",
    "sns.heatmap(df.corr(), annot=True, cmap='RdYlGn', linewidths=0.2) \n",
    "fig=plt.gcf() \n",
    "fig.set_size_inches(10,8) \n",
    "plt.show() "
   ]
  },
  {
   "cell_type": "code",
   "execution_count": null,
   "metadata": {},
   "outputs": [],
   "source": [
    "\n",
    "\n",
    "\n",
    "# Step 4: Preprocessing\n",
    "from sklearn.model_selection import train_test_split\n",
    "from sklearn.linear_model import LinearRegression\n",
    "\n",
    "# Split the dataframe into features and target\n",
    "X = df[['age', 'gender', 'income', 'education_level']]\n",
    "y = df['name']\n",
    "\n",
    "# Drop features that are not needed\n",
    "X = X.drop(['gender', 'education_level'], axis=1)\n",
    "\n",
    "# Create a Linear Regression model\n",
    "lin_reg = LinearRegression()\n",
    "\n",
    "# Fit the model and make predictions\n",
    "lin_reg.fit(X, y)\n",
    "predictions = lin_reg.predict(X)"
   ]
  }
 ],
 "metadata": {
  "kernelspec": {
   "display_name": "base",
   "language": "python",
   "name": "python3"
  },
  "language_info": {
   "codemirror_mode": {
    "name": "ipython",
    "version": 3
   },
   "file_extension": ".py",
   "mimetype": "text/x-python",
   "name": "python",
   "nbconvert_exporter": "python",
   "pygments_lexer": "ipython3",
   "version": "3.9.13"
  },
  "orig_nbformat": 4
 },
 "nbformat": 4,
 "nbformat_minor": 2
}
