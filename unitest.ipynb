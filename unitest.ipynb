{
 "cells": [
  {
   "cell_type": "code",
   "execution_count": 2,
   "id": "46962cbc",
   "metadata": {},
   "outputs": [
    {
     "name": "stdout",
     "output_type": "stream",
     "text": [
      "34.8\n",
      "15.9\n"
     ]
    }
   ],
   "source": [
    "import numpy as np\n",
    "\n",
    "power = {\n",
    "    'Fireball': 50, \n",
    "    'Lightning bolt': 40,\n",
    "    'Magic arrow': 10, \n",
    "    'Black Tentacles': 25, \n",
    "    'Contagion': 45\n",
    "}\n",
    "\n",
    "gandalf = ['Fireball', 'Lightning bolt', 'Lightning bolt', 'Magic arrow', 'Fireball', 'Magic arrow', 'Lightning bolt', 'Fireball', 'Fireball', 'Fireball']\n",
    "saruman = ['Contagion', 'Contagion', 'Black Tentacles', 'Fireball', 'Black Tentacles', 'Lightning bolt', 'Magic arrow', 'Contagion', 'Magic arrow', 'Magic arrow']\n",
    "\n",
    "# Which sorcerer won the battle - Gandalf or Saruman?\n",
    "def battle():\n",
    "    gandalf_wins = 0\n",
    "    saruman_wins = 0\n",
    "    gandalf_consec_wins = 0\n",
    "    saruman_consec_wins = 0\n",
    "    \n",
    "    for i in range(len(gandalf)):\n",
    "        gandalf_spell = gandalf[i]\n",
    "        saruman_spell = saruman[i]\n",
    "        gandalf_power = power[gandalf_spell]\n",
    "        saruman_power = power[saruman_spell]\n",
    "        \n",
    "        if gandalf_power > saruman_power:\n",
    "            gandalf_wins += 1\n",
    "            gandalf_consec_wins += 1\n",
    "            saruman_consec_wins = 0\n",
    "        elif saruman_power > gandalf_power:\n",
    "            saruman_wins += 1\n",
    "            saruman_consec_wins += 1\n",
    "            gandalf_consec_wins = 0\n",
    "        else:\n",
    "            gandalf_consec_wins = 0\n",
    "            saruman_consec_wins = 0\n",
    "        \n",
    "        if gandalf_consec_wins == 3:\n",
    "            return \"Gandalf\"\n",
    "        elif saruman_consec_wins == 3:\n",
    "            return \"Saruman\"\n",
    "    \n",
    "    if gandalf_wins > saruman_wins:\n",
    "        return \"Gandalf\"\n",
    "    elif saruman_wins > gandalf_wins:\n",
    "        return \"Saruman\"\n",
    "    else:\n",
    "        return \"Tie\"\n",
    "\n",
    "\n",
    "# Calculate the average spells cast by each sorcerer\n",
    "def avg_spells():\n",
    "    gandalf_spells = [power[spell] for spell in gandalf]\n",
    "    saruman_spells = [power[spell] for spell in saruman]\n",
    "    return round((np.mean(gandalf_spells) + np.mean(saruman_spells)) / 2.0, 1)\n",
    "\n",
    "\n",
    "# Calculate the standard deviation of spells cast by each sorcerer\n",
    "def stdev_spells():\n",
    "    all_spells = gandalf + saruman\n",
    "    all_spell_powers = [power[spell] for spell in all_spells]\n",
    "    return round(np.std(all_spell_powers), 1)\n",
    "\n",
    "\n",
    "print(avg_spells())\n",
    "print(stdev_spells())"
   ]
  },
  {
   "cell_type": "code",
   "execution_count": null,
   "id": "1f36c0ba",
   "metadata": {},
   "outputs": [],
   "source": []
  },
  {
   "cell_type": "code",
   "execution_count": null,
   "id": "341bb137",
   "metadata": {},
   "outputs": [],
   "source": []
  }
 ],
 "metadata": {
  "kernelspec": {
   "display_name": "Python 3 (ipykernel)",
   "language": "python",
   "name": "python3"
  },
  "language_info": {
   "codemirror_mode": {
    "name": "ipython",
    "version": 3
   },
   "file_extension": ".py",
   "mimetype": "text/x-python",
   "name": "python",
   "nbconvert_exporter": "python",
   "pygments_lexer": "ipython3",
   "version": "3.9.13"
  },
  "vscode": {
   "interpreter": {
    "hash": "fb4569285eef3a3450cb62085a5b1e0da4bce0af555edc33dcf29baf3acc1368"
   }
  }
 },
 "nbformat": 4,
 "nbformat_minor": 5
}
