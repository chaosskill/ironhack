{
 "cells": [
  {
   "cell_type": "code",
   "execution_count": 9,
   "id": "3c7cb3d2",
   "metadata": {},
   "outputs": [],
   "source": [
    "import xlwings as xw"
   ]
  },
  {
   "cell_type": "code",
   "execution_count": 10,
   "id": "8bb1e1d5",
   "metadata": {},
   "outputs": [],
   "source": [
    "new_book = xw.Book()"
   ]
  },
  {
   "cell_type": "code",
   "execution_count": 11,
   "id": "0649c060",
   "metadata": {},
   "outputs": [],
   "source": [
    "inputs = new_book.sheets.add('inputs')"
   ]
  },
  {
   "cell_type": "code",
   "execution_count": 12,
   "id": "c3235233",
   "metadata": {},
   "outputs": [],
   "source": [
    "worksheet = new_book.sheets[0]"
   ]
  },
  {
   "cell_type": "code",
   "execution_count": null,
   "id": "5d57dd15",
   "metadata": {},
   "outputs": [],
   "source": []
  }
 ],
 "metadata": {
  "kernelspec": {
   "display_name": "Python 3 (ipykernel)",
   "language": "python",
   "name": "python3"
  },
  "language_info": {
   "codemirror_mode": {
    "name": "ipython",
    "version": 3
   },
   "file_extension": ".py",
   "mimetype": "text/x-python",
   "name": "python",
   "nbconvert_exporter": "python",
   "pygments_lexer": "ipython3",
   "version": "3.9.13"
  }
 },
 "nbformat": 4,
 "nbformat_minor": 5
}
