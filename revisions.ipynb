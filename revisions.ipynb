{
 "cells": [
  {
   "attachments": {},
   "cell_type": "markdown",
   "metadata": {},
   "source": [
    "# Follow\n",
    "<b>Objective</b>: predict benefits of Healthcare for All obtains through mail donations by “lapsed” doners \n",
    "<b>Gather data</b>: data spread across several files that need to be merged \n",
    "<b>Clean data</b>: empty cells, weird entries, gender encoding \n",
    "<b>Explore</b>: answer questions like: group donors (by gender, by state), what’s the distribution by group, are there noticeable group differences? \n",
    "<b>Process</b>: Look at what model to apply (might need to change how some columns are expressed) \n",
    "<b>Training</b>: create model to predict donation amount of each doner \n",
    "<b>Validate</b>: check predictions against a little subset of the data \n",
    "<b>Present</b>: show *findings*"
   ]
  },
  {
   "cell_type": "code",
   "execution_count": null,
   "metadata": {},
   "outputs": [],
   "source": []
  }
 ],
 "metadata": {
  "kernelspec": {
   "display_name": "base",
   "language": "python",
   "name": "python3"
  },
  "language_info": {
   "name": "python",
   "version": "3.9.13"
  },
  "orig_nbformat": 4
 },
 "nbformat": 4,
 "nbformat_minor": 2
}
